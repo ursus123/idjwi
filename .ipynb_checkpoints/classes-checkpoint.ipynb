{
 "cells": [
  {
   "cell_type": "markdown",
   "id": "2ddadad0",
   "metadata": {},
   "source": [
    "### python_"
   ]
  },
  {
   "cell_type": "markdown",
   "id": "833caa58",
   "metadata": {},
   "source": [
    "#### 1. classes_"
   ]
  },
  {
   "cell_type": "code",
   "execution_count": 46,
   "id": "73b3098d",
   "metadata": {},
   "outputs": [
    {
     "name": "stdout",
     "output_type": "stream",
     "text": [
      "<class '__main__.class_1'>\n",
      "<class 'int'>\n",
      "<class 'function'>\n"
     ]
    },
    {
     "data": {
      "text/plain": [
       "(2, 'a')"
      ]
     },
     "execution_count": 46,
     "metadata": {},
     "output_type": "execute_result"
    }
   ],
   "source": [
    "\"\"\"\n",
    "class_1 : Basic class\n",
    "class_1.num & class_1.print_a() are both class objects\n",
    "\"\"\"\n",
    "class class_1:\n",
    "    num = 2\n",
    "    def print_a():\n",
    "        return 'a'\n",
    "    \n",
    "# Print class object types\n",
    "print(class_1)\n",
    "print(type(class_1.num))\n",
    "print(type(class_1.print_a))\n",
    "\n",
    "class_1.num, class_1.print_a()"
   ]
  },
  {
   "cell_type": "code",
   "execution_count": 55,
   "id": "25e36fee",
   "metadata": {},
   "outputs": [
    {
     "data": {
      "text/plain": [
       "(32, 'years')"
      ]
     },
     "execution_count": 55,
     "metadata": {},
     "output_type": "execute_result"
    }
   ],
   "source": [
    "\"\"\"\n",
    "class_2 & instantiation\n",
    "\"\"\"\n",
    "class class_2:\n",
    "    def __init__(self, number, string):\n",
    "        self.num = number\n",
    "        self.str = string\n",
    "        \n",
    "x = class_2(32,'years')\n",
    "x.num, x.str"
   ]
  },
  {
   "cell_type": "code",
   "execution_count": 57,
   "id": "b745a639",
   "metadata": {},
   "outputs": [
    {
     "data": {
      "text/plain": [
       "('bull', 'dog')"
      ]
     },
     "execution_count": 57,
     "metadata": {},
     "output_type": "execute_result"
    }
   ],
   "source": [
    "\"\"\"\n",
    "class_3 objects & instantiation\n",
    "\"\"\"\n",
    "class class_3:\n",
    "    animal = 'dog'\n",
    "    def __init__(self, name):\n",
    "        self.name = name\n",
    "y = class_3('bull')\n",
    "y.name, class_3.animal"
   ]
  },
  {
   "cell_type": "code",
   "execution_count": 73,
   "id": "ad0bb2e3",
   "metadata": {},
   "outputs": [
    {
     "data": {
      "text/plain": [
       "'hello'"
      ]
     },
     "execution_count": 73,
     "metadata": {},
     "output_type": "execute_result"
    }
   ],
   "source": [
    "\"\"\"\n",
    "class_4 another simple class\n",
    "\"\"\"\n",
    "\n",
    "class class_4:\n",
    "    def return_object(self):\n",
    "        return 'hello'\n",
    "class_4 = class_4()\n",
    "class_4.return_object()"
   ]
  },
  {
   "cell_type": "code",
   "execution_count": 100,
   "id": "468e0620",
   "metadata": {},
   "outputs": [],
   "source": [
    "\"\"\"\n",
    "class_4 another simple class\n",
    "\"\"\"\n",
    "\n",
    "class class_5:\n",
    "    def __init__(self, num_1, num_2):\n",
    "        self.a = num_1\n",
    "        self.b = num_2\n",
    "    def add(self,a,b):\n",
    "        return a+b\n",
    "    def minus(self,a,b):\n",
    "        return a-b\n",
    "c = class_5(0,0)"
   ]
  },
  {
   "cell_type": "code",
   "execution_count": 103,
   "id": "099e11e3",
   "metadata": {},
   "outputs": [
    {
     "data": {
      "text/plain": [
       "(15, 7)"
      ]
     },
     "execution_count": 103,
     "metadata": {},
     "output_type": "execute_result"
    }
   ],
   "source": [
    "c.add(10,5),c.minus(10,3)"
   ]
  },
  {
   "cell_type": "code",
   "execution_count": 1,
   "id": "d82a0c86",
   "metadata": {},
   "outputs": [],
   "source": [
    "\"\"\"\n",
    "open_data class \n",
    "\"\"\"\n",
    "class open_data:\n",
    "\n",
    "\tdef __init__(self, file_source):\n",
    "\t\tself.file_source = file_source\n",
    "\n",
    "\tdef csv_excel(self, file_source):\n",
    "\t\t\"\"\"\n",
    "\t\tThis function is used to open csv and Excel files\n",
    "\t\t:param file_source: is where you put your file path directory\n",
    "\t\t:type file_source: str\n",
    "\n",
    "\t\t:return: Dataframe\n",
    "\t\t:rtype: Dataframe\n",
    "\t\t\"\"\"\n",
    "\t\tfile_name, file_extension = os.path.splitext(file_source)\n",
    "\t\tif file_extension =='.csv':\n",
    "\t\t\tdata = pd.read_csv(file_source)\n",
    "\t\t\treturn data\n",
    "\t\telif file_extension =='.xlsx':\n",
    "\t\t\tdata = pd.read_excel(file_source)\n",
    "\t\t\treturn data\n",
    "\t\telse:\n",
    "\t\t\tprint('Check Your Source')\n",
    "\n",
    "open_data = open_data('file_soucre.csv')"
   ]
  },
  {
   "cell_type": "code",
   "execution_count": 3,
   "id": "38ec497c",
   "metadata": {},
   "outputs": [
    {
     "ename": "NameError",
     "evalue": "name 'os' is not defined",
     "output_type": "error",
     "traceback": [
      "\u001b[1;31m---------------------------------------------------------------------------\u001b[0m",
      "\u001b[1;31mNameError\u001b[0m                                 Traceback (most recent call last)",
      "\u001b[1;32mC:\\Users\\MUHOZA~1\\AppData\\Local\\Temp/ipykernel_28736/2608277081.py\u001b[0m in \u001b[0;36m<module>\u001b[1;34m\u001b[0m\n\u001b[1;32m----> 1\u001b[1;33m \u001b[0mopen_data\u001b[0m\u001b[1;33m.\u001b[0m\u001b[0mcsv_excel\u001b[0m\u001b[1;33m(\u001b[0m\u001b[1;34m'ok.csv'\u001b[0m\u001b[1;33m)\u001b[0m\u001b[1;33m\u001b[0m\u001b[1;33m\u001b[0m\u001b[0m\n\u001b[0m",
      "\u001b[1;32mC:\\Users\\MUHOZA~1\\AppData\\Local\\Temp/ipykernel_28736/4210958449.py\u001b[0m in \u001b[0;36mcsv_excel\u001b[1;34m(self, file_source)\u001b[0m\n\u001b[0;32m     16\u001b[0m                 \u001b[1;33m:\u001b[0m\u001b[0mrtype\u001b[0m\u001b[1;33m:\u001b[0m \u001b[0mDataframe\u001b[0m\u001b[1;33m\u001b[0m\u001b[1;33m\u001b[0m\u001b[0m\n\u001b[0;32m     17\u001b[0m \t\t\"\"\"\n\u001b[1;32m---> 18\u001b[1;33m                 \u001b[0mfile_name\u001b[0m\u001b[1;33m,\u001b[0m \u001b[0mfile_extension\u001b[0m \u001b[1;33m=\u001b[0m \u001b[0mos\u001b[0m\u001b[1;33m.\u001b[0m\u001b[0mpath\u001b[0m\u001b[1;33m.\u001b[0m\u001b[0msplitext\u001b[0m\u001b[1;33m(\u001b[0m\u001b[0mfile_source\u001b[0m\u001b[1;33m)\u001b[0m\u001b[1;33m\u001b[0m\u001b[1;33m\u001b[0m\u001b[0m\n\u001b[0m\u001b[0;32m     19\u001b[0m                 \u001b[1;32mif\u001b[0m \u001b[0mfile_extension\u001b[0m \u001b[1;33m==\u001b[0m\u001b[1;34m'.csv'\u001b[0m\u001b[1;33m:\u001b[0m\u001b[1;33m\u001b[0m\u001b[1;33m\u001b[0m\u001b[0m\n\u001b[0;32m     20\u001b[0m                         \u001b[0mdata\u001b[0m \u001b[1;33m=\u001b[0m \u001b[0mpd\u001b[0m\u001b[1;33m.\u001b[0m\u001b[0mread_csv\u001b[0m\u001b[1;33m(\u001b[0m\u001b[0mfile_source\u001b[0m\u001b[1;33m)\u001b[0m\u001b[1;33m\u001b[0m\u001b[1;33m\u001b[0m\u001b[0m\n",
      "\u001b[1;31mNameError\u001b[0m: name 'os' is not defined"
     ]
    }
   ],
   "source": [
    "open_data.csv_excel('ok.csv')"
   ]
  },
  {
   "cell_type": "code",
   "execution_count": null,
   "id": "0249abae",
   "metadata": {},
   "outputs": [],
   "source": []
  }
 ],
 "metadata": {
  "kernelspec": {
   "display_name": "Python 3 (ipykernel)",
   "language": "python",
   "name": "python3"
  },
  "language_info": {
   "codemirror_mode": {
    "name": "ipython",
    "version": 3
   },
   "file_extension": ".py",
   "mimetype": "text/x-python",
   "name": "python",
   "nbconvert_exporter": "python",
   "pygments_lexer": "ipython3",
   "version": "3.9.7"
  }
 },
 "nbformat": 4,
 "nbformat_minor": 5
}
